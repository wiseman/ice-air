{
 "cells": [
  {
   "cell_type": "code",
   "execution_count": 105,
   "metadata": {},
   "outputs": [],
   "source": [
    "# find the most common airport 1-, 2- and 3-grams\n",
    "# per call-sign from ADS-B “event” files like the sample below.\n",
    "#\n",
    "# Each input file contains one JSON object per line:\n",
    "#\n",
    "# {\"time\":\"2025-04-21T00:00:25.445Z\", \"callSign\":\"N1872J  \",\n",
    "#  \"eventDetail\":{\"airport\":{\"airportIdent\":\"KLGB\"}}, ... }\n",
    "#\n",
    "\n",
    "from __future__ import annotations\n",
    "\n",
    "import glob\n",
    "import json\n",
    "import re\n",
    "from collections import Counter, defaultdict\n",
    "from typing import Iterable, List"
   ]
  },
  {
   "cell_type": "code",
   "execution_count": 117,
   "metadata": {},
   "outputs": [],
   "source": [
    "\n",
    "\n",
    "def ngrams(seq: List[str], n: int) -> Iterable[str]:\n",
    "    \"\"\"Yield sliding n-grams as 'A-B-C' strings.\"\"\"\n",
    "    for i in range(len(seq) - n + 1):\n",
    "        yield \"-\".join(seq[i:i + n])\n",
    "\n",
    "def read_files(files: list[str], cs_re: re.Pattern) -> list:\n",
    "    visits = []\n",
    "    for f in files:\n",
    "        with open(f) as fh:\n",
    "            for line in fh:\n",
    "                rec = json.loads(line)\n",
    "                cs = rec[\"callSign\"]\n",
    "                if not cs:\n",
    "                    continue\n",
    "                cs_stripped = cs.strip()\n",
    "                if not cs_stripped:\n",
    "                    continue\n",
    "                if not cs_re.match(cs_stripped):\n",
    "                    continue\n",
    "                icao24 = rec[\"icao\"]\n",
    "                airport = rec[\"eventDetail\"][\"airport\"]\n",
    "                if airport is None:\n",
    "                    airportId = 'OFFAIRPORT'\n",
    "                else:\n",
    "                    airportId = rec[\"eventDetail\"][\"airport\"][\"airportIdent\"]\n",
    "                ts = rec[\"time\"]\n",
    "                visits.append((ts, icao24, airportId, cs_stripped))\n",
    "    return visits\n"
   ]
  },
  {
   "cell_type": "code",
   "execution_count": 119,
   "metadata": {},
   "outputs": [
    {
     "name": "stdout",
     "output_type": "stream",
     "text": [
      "Found 21 files\n",
      "Found 54 visits\n"
     ]
    }
   ],
   "source": [
    "# Find landings-*.json in this directory.\n",
    "TYSON_RE = re.compile(r\"^(TYSON|TYS|ON)[0-9]+\")\n",
    "# TYSON_RE = re.compile(r\"^GXA6[0-9]+\")\n",
    "# TYSON_RE = re.compile(r\"^TYSON[0-9]+\")\n",
    "FILES = glob.glob(\"landings-*.json\")\n",
    "print(f\"Found {len(FILES)} files\")\n",
    "VISITS = read_files(FILES, TYSON_RE)\n",
    "print(f\"Found {len(VISITS)} visits\")\n"
   ]
  },
  {
   "cell_type": "code",
   "execution_count": 120,
   "metadata": {},
   "outputs": [
    {
     "name": "stdout",
     "output_type": "stream",
     "text": [
      "time,icao24,airportId,callSign\n",
      "2025-04-28T00:07:35.824Z,a2e13a,KDTW,GXA605\n",
      "2025-04-28T18:36:05.407Z,a2d615,KLAS,GXA610\n",
      "2025-04-12T02:28:49.261Z,a83f98,KIWA,GXA6139\n",
      "2025-04-12T11:17:55.029Z,a83f98,KDAL,GXA6130\n",
      "2025-04-12T15:13:38.824Z,a2c129,MYNN,GXA601\n",
      "2025-04-12T17:36:46.524Z,ad7274,TJSJ,GXA6161\n",
      "2025-04-12T19:00:54.062Z,a83f98,KMIA,GXA6132\n",
      "2025-04-12T23:49:38.438Z,ad7274,KAEX,GXA6161\n",
      "2025-04-09T00:32:09.451Z,a83f98,KIWA,GXA6133\n",
      "2025-04-09T00:38:39.448Z,a2d25e,KELP,GXA6121\n",
      "2025-04-09T03:03:43.437Z,a2d25e,KHRL,GXA6112\n",
      "2025-04-09T12:23:37.503Z,a75013,KELP,GXA6167\n",
      "2025-04-09T14:08:52.809Z,ad7274,KMSP,GXA6153\n",
      "2025-04-09T15:04:08.033Z,a6b0f5,KELP,GXA6133\n",
      "2025-04-09T16:11:55.083Z,ad7274,KOMA,GXA6154\n",
      "2025-04-09T17:09:31.335Z,a835d1,KHRL,GXA6123\n",
      "2025-04-09T17:21:50.406Z,a2bd72,MGGT,GXA6150\n",
      "2025-04-09T18:12:51.336Z,a75013,MHLM,GXA6168\n",
      "2025-04-09T19:19:11.748Z,a6b0f5,KAEX,GXA6134\n",
      "2025-04-09T19:28:47.634Z,a2d25e,KCLT,GXA6113\n",
      "2025-04-09T19:31:21.531Z,ad7274,KHRL,GXA6155\n",
      "2025-04-09T20:39:41.815Z,a83f98,KHRL,GXA6131\n",
      "2025-04-09T21:57:05.995Z,a2d25e,KCSG,GXA6114\n",
      "2025-04-09T23:57:09.962Z,a83f98,KIWA,GXA6132\n",
      "2025-04-13T02:18:12.260Z,a83f98,KIWA,GXA6133\n",
      "2025-04-13T12:53:10.799Z,a2c129,MYNN,GXA602\n",
      "2025-04-13T15:38:32.471Z,ad7274,MYNN,GXA603\n",
      "2025-04-18T23:23:08.818Z,a2c129,KJFK,GXA602\n",
      "2025-04-14T15:32:30.322Z,ad7274,MYNN,GXA605\n",
      "2025-04-15T20:41:12.997Z,a2e13a,KBUR,GXA602\n",
      "2025-04-19T00:17:15.310Z,ad7274,KJFK,GXA603\n",
      "2025-04-19T21:08:07.841Z,a2e13a,CYVR,GXA603\n",
      "2025-04-19T23:13:29.440Z,a2c129,KJFK,GXA604\n",
      "2025-04-23T22:16:07.485Z,a835d1,MHLM,GXA6151\n",
      "2025-04-23T22:21:11.357Z,a2e13a,KLAS,GXA604\n",
      "2025-04-20T00:10:51.801Z,ad7274,KJFK,GXA605\n",
      "2025-04-10T01:45:39.943Z,a2d25e,KELP,GXA6115\n",
      "2025-04-10T04:14:04.424Z,a2d25e,KHRL,GXA6116\n",
      "2025-04-10T13:55:27.337Z,a75013,KELP,GXA6153\n",
      "2025-04-10T15:02:56.626Z,a2bd72,MHLM,GXA6150\n",
      "2025-04-10T17:14:53.338Z,a83f98,KIAH,GXA6130\n",
      "2025-04-10T18:52:33.938Z,a2d25e,KCLT,GXA6117\n",
      "2025-04-10T20:10:42.264Z,a2bd72,SPIM,GXA6150\n",
      "2025-04-10T20:59:14.507Z,a2d25e,KCSG,GXA6118\n",
      "2025-04-10T21:31:31.316Z,a83f98,KVCV,GXA6131\n",
      "2025-04-10T22:43:44.977Z,a2d25e,KJAX,GXA6119\n",
      "2025-04-10T23:39:23.804Z,a83f98,KIWA,GXA61332\n",
      "2025-04-11T03:41:36.268Z,a2d25e,KELP,GXA6120\n",
      "2025-04-11T05:25:12.926Z,ad7274,TJSJ,GXA6160\n",
      "2025-04-11T06:07:39.277Z,a2d25e,KHRL,GXA6121\n",
      "2025-04-11T12:05:32.317Z,ad7274,SBFZ,GXA6160\n",
      "2025-04-11T14:13:40.909Z,a83f98,KIAH,GXA6136\n",
      "2025-04-11T19:29:43.824Z,a2f016,KDAL,GXA601\n",
      "2025-04-11T21:00:37.011Z,a83f98,MGGT,GXA6138\n"
     ]
    }
   ],
   "source": [
    "# Print VISITS as csv.\n",
    "print(\"time,icao24,airportId,callSign\")\n",
    "for visit in VISITS:\n",
    "    print(f\"{visit[0]},{visit[1]},{visit[2]},{visit[3]}\")\n"
   ]
  },
  {
   "cell_type": "code",
   "execution_count": 108,
   "metadata": {},
   "outputs": [],
   "source": [
    "\n",
    "# For each call-sign, sort & create 1-,2-,3-gram frequency tables\n",
    "\n",
    "TOP_N = 10\n",
    "# for cs, tuples in VISITS.items():\n",
    "#     tuples.sort(key=lambda t: t[0])                  # sort by time\n",
    "#     airports = [ap for _, ap in tuples]\n",
    "#     counters = {\n",
    "#         n: Counter(ngrams(airports, n))\n",
    "#         for n in (1, 2, 3)\n",
    "#     }\n",
    "#     print(f\"\\n=== {cs} ===\")\n",
    "#     for n in (1, 2, 3):\n",
    "#         common = counters[n].most_common(TOP_N)\n",
    "#         label = \"-\".join([\"gram\"] * n) if TOP_N == 1 else f\"top {n}-grams\"\n",
    "#         for gram, cnt in common:\n",
    "#             print(f\"{n}-gram: {gram:<20}  ({cnt}×)\")\n",
    "#         if not common:\n",
    "#             print(f\"{n}-gram: <none recorded>\")\n"
   ]
  },
  {
   "cell_type": "code",
   "execution_count": 109,
   "metadata": {},
   "outputs": [
    {
     "name": "stdout",
     "output_type": "stream",
     "text": [
      "1-gram: KHRL                  (6×)\n",
      "1-gram: KELP                  (6×)\n",
      "1-gram: KIWA                  (5×)\n",
      "1-gram: MYNN                  (4×)\n",
      "1-gram: KJFK                  (4×)\n",
      "1-gram: MHLM                  (3×)\n",
      "1-gram: KLAS                  (2×)\n",
      "1-gram: KIAH                  (2×)\n",
      "1-gram: MGGT                  (2×)\n",
      "1-gram: KDAL                  (2×)\n",
      "1-gram: TJSJ                  (2×)\n",
      "1-gram: KAEX                  (2×)\n",
      "2-gram: KELP-KHRL             (3×)\n",
      "2-gram: KIWA-KIAH             (2×)\n",
      "2-gram: MYNN-MYNN             (2×)\n",
      "2-gram: MYNN-KJFK             (2×)\n",
      "2-gram: KJFK-KJFK             (2×)\n",
      "2-gram: KHRL-KCLT             (2×)\n",
      "2-gram: KCLT-KCSG             (2×)\n",
      "2-gram: KBUR-CYVR             (1×)\n",
      "2-gram: CYVR-KLAS             (1×)\n",
      "2-gram: KLAS-KDTW             (1×)\n",
      "2-gram: KIWA-KHRL             (1×)\n",
      "2-gram: KHRL-KIWA             (1×)\n",
      "3-gram: MYNN-MYNN-KJFK        (2×)\n",
      "3-gram: MYNN-KJFK-KJFK        (2×)\n",
      "3-gram: KELP-KHRL-KCLT        (2×)\n",
      "3-gram: KHRL-KCLT-KCSG        (2×)\n",
      "3-gram: KBUR-CYVR-KLAS        (1×)\n",
      "3-gram: CYVR-KLAS-KDTW        (1×)\n",
      "3-gram: KIWA-KHRL-KIWA        (1×)\n",
      "3-gram: KHRL-KIWA-KIAH        (1×)\n",
      "3-gram: KIWA-KIAH-KVCV        (1×)\n",
      "3-gram: KIAH-KVCV-KIWA        (1×)\n",
      "3-gram: KVCV-KIWA-KIAH        (1×)\n",
      "3-gram: KIWA-KIAH-MGGT        (1×)\n"
     ]
    }
   ],
   "source": [
    "# Print the TOP-N 1-,2-,3-grams.\n",
    "counters: dict[int, Counter[str]] = defaultdict(Counter)\n",
    "\n",
    "for icao, tuples in VISITS.items():\n",
    "    tuples.sort(key=lambda t: t[0])\n",
    "    airports = [ap for _, ap in tuples]\n",
    "    for n in (1, 2, 3):\n",
    "        for ngram in ngrams(airports, n):\n",
    "            counters[n][ngram] += 1\n",
    "\n",
    "TOP_N = 12\n",
    "for n in (1, 2, 3):\n",
    "    common = counters[n].most_common(TOP_N)\n",
    "    label = \"-\".join([\"gram\"] * n) if TOP_N == 1 else f\"top {n}-grams\"\n",
    "    for gram, cnt in common:\n",
    "        print(f\"{n}-gram: {gram:<20}  ({cnt}×)\")\n",
    "    if not common:\n",
    "        print(f\"{n}-gram: <none recorded>\")"
   ]
  },
  {
   "cell_type": "code",
   "execution_count": 110,
   "metadata": {},
   "outputs": [
    {
     "name": "stdout",
     "output_type": "stream",
     "text": [
      "Wrote top 15 bigrams to top_bigrams.csv\n"
     ]
    }
   ],
   "source": [
    "# Write a csv of the form origin,destination,count.\n",
    "# Only write bigrams, and only the top 15.\n",
    "import csv\n",
    "\n",
    "\n",
    "def write_ngrams_csv(counters: dict[int, Counter[str]], filename: str, top_n: int = 15):\n",
    "    \"\"\"Write the top N bigrams to a CSV file.\"\"\"\n",
    "    bigram_counter = counters.get(2)\n",
    "    if not bigram_counter:\n",
    "        print(\"No bigrams found to write.\")\n",
    "        return\n",
    "\n",
    "    top_bigrams = bigram_counter.most_common(top_n)\n",
    "\n",
    "    with open(filename, \"w\", newline=\"\") as csvfile:\n",
    "        writer = csv.writer(csvfile)\n",
    "        writer.writerow([\"origin\", \"destination\", \"count\"])  # Write header\n",
    "        for gram, count in top_bigrams:\n",
    "            parts = gram.split(\"-\")\n",
    "            if len(parts) == 2:\n",
    "                origin, destination = parts\n",
    "                writer.writerow([origin, destination, count])\n",
    "            else:\n",
    "                # This case might happen if an airport code itself contains a hyphen\n",
    "                # or if something unexpected occurred during ngram generation.\n",
    "                print(f\"Skipping potentially malformed bigram: {gram}\")\n",
    "\n",
    "\n",
    "# Call the function to write the CSV\n",
    "# Ensure the 'counters' variable is defined and populated from the previous cell\n",
    "csv_filename = \"top_bigrams.csv\"\n",
    "write_ngrams_csv(counters, csv_filename)\n",
    "print(f\"Wrote top {15} bigrams to {csv_filename}\")"
   ]
  },
  {
   "cell_type": "code",
   "execution_count": 111,
   "metadata": {},
   "outputs": [],
   "source": [
    "write_ngrams_csv(counters, \"bigrams.csv\")"
   ]
  },
  {
   "cell_type": "code",
   "execution_count": null,
   "metadata": {},
   "outputs": [],
   "source": []
  }
 ],
 "metadata": {
  "kernelspec": {
   "display_name": ".venv",
   "language": "python",
   "name": "python3"
  },
  "language_info": {
   "codemirror_mode": {
    "name": "ipython",
    "version": 3
   },
   "file_extension": ".py",
   "mimetype": "text/x-python",
   "name": "python",
   "nbconvert_exporter": "python",
   "pygments_lexer": "ipython3",
   "version": "3.10.6"
  }
 },
 "nbformat": 4,
 "nbformat_minor": 2
}
